{
  "nbformat": 4,
  "nbformat_minor": 0,
  "metadata": {
    "colab": {
      "name": "Regression-trees.ipynb",
      "provenance": [],
      "collapsed_sections": []
    },
    "kernelspec": {
      "name": "python3",
      "display_name": "Python 3"
    }
  },
  "cells": [
    {
      "cell_type": "code",
      "metadata": {
        "id": "L5YLJv7MKZul",
        "colab_type": "code",
        "colab": {}
      },
      "source": [
        "import numpy as np\n",
        "import pandas as pd"
      ],
      "execution_count": 0,
      "outputs": []
    },
    {
      "cell_type": "code",
      "metadata": {
        "id": "Ws4XwFgyKe6t",
        "colab_type": "code",
        "colab": {}
      },
      "source": [
        "df=pd.DataFrame()"
      ],
      "execution_count": 0,
      "outputs": []
    },
    {
      "cell_type": "code",
      "metadata": {
        "id": "AwCy1_qoKrwF",
        "colab_type": "code",
        "colab": {}
      },
      "source": [
        "df['hrs']=np.array([1,2.5,1.5,2.1,5,4,6.5,3.5,8,7.5])\n",
        "df['marks']=np.array([37,50,43,60,27,80,30,75,64,56])"
      ],
      "execution_count": 0,
      "outputs": []
    },
    {
      "cell_type": "code",
      "metadata": {
        "id": "3AsaU0-PLXqb",
        "colab_type": "code",
        "outputId": "c7727a96-a26a-4268-901f-c9972a56dda7",
        "colab": {
          "base_uri": "https://localhost:8080/",
          "height": 359
        }
      },
      "source": [
        "df"
      ],
      "execution_count": 0,
      "outputs": [
        {
          "output_type": "execute_result",
          "data": {
            "text/html": [
              "<div>\n",
              "<style scoped>\n",
              "    .dataframe tbody tr th:only-of-type {\n",
              "        vertical-align: middle;\n",
              "    }\n",
              "\n",
              "    .dataframe tbody tr th {\n",
              "        vertical-align: top;\n",
              "    }\n",
              "\n",
              "    .dataframe thead th {\n",
              "        text-align: right;\n",
              "    }\n",
              "</style>\n",
              "<table border=\"1\" class=\"dataframe\">\n",
              "  <thead>\n",
              "    <tr style=\"text-align: right;\">\n",
              "      <th></th>\n",
              "      <th>hrs</th>\n",
              "      <th>marks</th>\n",
              "    </tr>\n",
              "  </thead>\n",
              "  <tbody>\n",
              "    <tr>\n",
              "      <th>0</th>\n",
              "      <td>1.0</td>\n",
              "      <td>37</td>\n",
              "    </tr>\n",
              "    <tr>\n",
              "      <th>1</th>\n",
              "      <td>2.5</td>\n",
              "      <td>50</td>\n",
              "    </tr>\n",
              "    <tr>\n",
              "      <th>2</th>\n",
              "      <td>1.5</td>\n",
              "      <td>43</td>\n",
              "    </tr>\n",
              "    <tr>\n",
              "      <th>3</th>\n",
              "      <td>2.1</td>\n",
              "      <td>60</td>\n",
              "    </tr>\n",
              "    <tr>\n",
              "      <th>4</th>\n",
              "      <td>5.0</td>\n",
              "      <td>27</td>\n",
              "    </tr>\n",
              "    <tr>\n",
              "      <th>5</th>\n",
              "      <td>4.0</td>\n",
              "      <td>80</td>\n",
              "    </tr>\n",
              "    <tr>\n",
              "      <th>6</th>\n",
              "      <td>6.5</td>\n",
              "      <td>30</td>\n",
              "    </tr>\n",
              "    <tr>\n",
              "      <th>7</th>\n",
              "      <td>3.5</td>\n",
              "      <td>75</td>\n",
              "    </tr>\n",
              "    <tr>\n",
              "      <th>8</th>\n",
              "      <td>8.0</td>\n",
              "      <td>64</td>\n",
              "    </tr>\n",
              "    <tr>\n",
              "      <th>9</th>\n",
              "      <td>7.5</td>\n",
              "      <td>56</td>\n",
              "    </tr>\n",
              "  </tbody>\n",
              "</table>\n",
              "</div>"
            ],
            "text/plain": [
              "   hrs  marks\n",
              "0  1.0     37\n",
              "1  2.5     50\n",
              "2  1.5     43\n",
              "3  2.1     60\n",
              "4  5.0     27\n",
              "5  4.0     80\n",
              "6  6.5     30\n",
              "7  3.5     75\n",
              "8  8.0     64\n",
              "9  7.5     56"
            ]
          },
          "metadata": {
            "tags": []
          },
          "execution_count": 4
        }
      ]
    },
    {
      "cell_type": "code",
      "metadata": {
        "id": "3ee6DyDnLY3H",
        "colab_type": "code",
        "colab": {}
      },
      "source": [
        "import matplotlib.pyplot as plt\n",
        "plt.style.use('fivethirtyeight')"
      ],
      "execution_count": 0,
      "outputs": []
    },
    {
      "cell_type": "code",
      "metadata": {
        "id": "XASn6oEvLfTj",
        "colab_type": "code",
        "outputId": "c2ba87b0-8f45-456d-9799-db9b35cb26db",
        "colab": {
          "base_uri": "https://localhost:8080/",
          "height": 299
        }
      },
      "source": [
        "plt.scatter(df['hrs'],df['marks'])"
      ],
      "execution_count": 0,
      "outputs": [
        {
          "output_type": "execute_result",
          "data": {
            "text/plain": [
              "<matplotlib.collections.PathCollection at 0x7f9131839b70>"
            ]
          },
          "metadata": {
            "tags": []
          },
          "execution_count": 6
        },
        {
          "output_type": "display_data",
          "data": {
            "image/png": "[encoded data removed]",
            "text/plain": [
              "<Figure size 432x288 with 1 Axes>"
            ]
          },
          "metadata": {
            "tags": []
          }
        }
      ]
    },
    {
      "cell_type": "code",
      "metadata": {
        "id": "bD29xDFeLj5S",
        "colab_type": "code",
        "colab": {}
      },
      "source": [
        "# You have to find the first splitting criteria."
      ],
      "execution_count": 0,
      "outputs": []
    },
    {
      "cell_type": "code",
      "metadata": {
        "id": "fihYiDf4nNKw",
        "colab_type": "code",
        "colab": {}
      },
      "source": [
        "df.sort_values(by='hrs',inplace=True)"
      ],
      "execution_count": 0,
      "outputs": []
    },
    {
      "cell_type": "code",
      "metadata": {
        "id": "rJW7Fd9V0mad",
        "colab_type": "code",
        "colab": {}
      },
      "source": [
        "sse = pd.DataFrame(columns=['hrs','error'])"
      ],
      "execution_count": 0,
      "outputs": []
    },
    {
      "cell_type": "code",
      "metadata": {
        "id": "SDyL_2zunva6",
        "colab_type": "code",
        "colab": {}
      },
      "source": [
        "for i in range(df.shape[0]-1):\n",
        "  m1 = (df['hrs'].values[i] + df['hrs'].values[i+1])/2\n",
        "  df1 = df[df['hrs']<m1]\n",
        "  df2 = df[df['hrs']>m1]\n",
        "  \n",
        "  df1_sse = 0\n",
        "  df1_mean = df1['marks'].mean()\n",
        "  for i in df1['marks']:\n",
        "    df1_sse = df1_sse + (df1_mean-i)**2\n",
        "\n",
        "  df2_sse = 0\n",
        "  df2_mean = df2['marks'].mean()\n",
        "  for i in df2['marks']:\n",
        "    df2_sse = df2_sse + (df2_mean-i)**2\n",
        "  temp = pd.DataFrame({'hrs':[m1], 'error':[(df1_sse+df2_sse)]})\n",
        "  sse = sse.append(temp,ignore_index=True)"
      ],
      "execution_count": 0,
      "outputs": []
    },
    {
      "cell_type": "code",
      "metadata": {
        "id": "fGuq_q2PsI7M",
        "colab_type": "code",
        "outputId": "23d59dec-e9aa-4eb9-dc35-2b6f087ddabe",
        "colab": {
          "base_uri": "https://localhost:8080/",
          "height": 328
        }
      },
      "source": [
        "sse.sort_values(by='error')"
      ],
      "execution_count": 0,
      "outputs": [
        {
          "output_type": "execute_result",
          "data": {
            "text/html": [
              "<div>\n",
              "<style scoped>\n",
              "    .dataframe tbody tr th:only-of-type {\n",
              "        vertical-align: middle;\n",
              "    }\n",
              "\n",
              "    .dataframe tbody tr th {\n",
              "        vertical-align: top;\n",
              "    }\n",
              "\n",
              "    .dataframe thead th {\n",
              "        text-align: right;\n",
              "    }\n",
              "</style>\n",
              "<table border=\"1\" class=\"dataframe\">\n",
              "  <thead>\n",
              "    <tr style=\"text-align: right;\">\n",
              "      <th></th>\n",
              "      <th>hrs</th>\n",
              "      <th>error</th>\n",
              "    </tr>\n",
              "  </thead>\n",
              "  <tbody>\n",
              "    <tr>\n",
              "      <th>5</th>\n",
              "      <td>4.50</td>\n",
              "      <td>2534.250000</td>\n",
              "    </tr>\n",
              "    <tr>\n",
              "      <th>1</th>\n",
              "      <td>1.80</td>\n",
              "      <td>2583.500000</td>\n",
              "    </tr>\n",
              "    <tr>\n",
              "      <th>0</th>\n",
              "      <td>1.25</td>\n",
              "      <td>2698.888889</td>\n",
              "    </tr>\n",
              "    <tr>\n",
              "      <th>8</th>\n",
              "      <td>7.75</td>\n",
              "      <td>2800.888889</td>\n",
              "    </tr>\n",
              "    <tr>\n",
              "      <th>7</th>\n",
              "      <td>7.00</td>\n",
              "      <td>2803.500000</td>\n",
              "    </tr>\n",
              "    <tr>\n",
              "      <th>3</th>\n",
              "      <td>3.00</td>\n",
              "      <td>2808.333333</td>\n",
              "    </tr>\n",
              "    <tr>\n",
              "      <th>2</th>\n",
              "      <td>2.30</td>\n",
              "      <td>2824.380952</td>\n",
              "    </tr>\n",
              "    <tr>\n",
              "      <th>6</th>\n",
              "      <td>5.75</td>\n",
              "      <td>2934.857143</td>\n",
              "    </tr>\n",
              "    <tr>\n",
              "      <th>4</th>\n",
              "      <td>3.75</td>\n",
              "      <td>2949.200000</td>\n",
              "    </tr>\n",
              "  </tbody>\n",
              "</table>\n",
              "</div>"
            ],
            "text/plain": [
              "    hrs        error\n",
              "5  4.50  2534.250000\n",
              "1  1.80  2583.500000\n",
              "0  1.25  2698.888889\n",
              "8  7.75  2800.888889\n",
              "7  7.00  2803.500000\n",
              "3  3.00  2808.333333\n",
              "2  2.30  2824.380952\n",
              "6  5.75  2934.857143\n",
              "4  3.75  2949.200000"
            ]
          },
          "metadata": {
            "tags": []
          },
          "execution_count": 11
        }
      ]
    },
    {
      "cell_type": "code",
      "metadata": {
        "id": "_iK3sFRe0ANE",
        "colab_type": "code",
        "outputId": "3f765b19-5ba1-4200-d6fd-28b97fcd7e03",
        "colab": {
          "base_uri": "https://localhost:8080/",
          "height": 304
        }
      },
      "source": [
        "plt.scatter(sse['hrs'],sse['error'])\n",
        "plt.xlabel('Hours')\n",
        "plt.ylabel('Error')\n",
        "plt.show()"
      ],
      "execution_count": 0,
      "outputs": [
        {
          "output_type": "display_data",
          "data": {
            "image/png": "[encoded data removed]",
            "text/plain": [
              "<Figure size 432x288 with 1 Axes>"
            ]
          },
          "metadata": {
            "tags": []
          }
        }
      ]
    },
    {
      "cell_type": "markdown",
      "metadata": {
        "id": "At8LBeE0-cyy",
        "colab_type": "text"
      },
      "source": [
        "## We can clearly see that minimum error is around 4.5 hours, So 4.5 should be the first spliting criteria."
      ]
    }
  ]
}